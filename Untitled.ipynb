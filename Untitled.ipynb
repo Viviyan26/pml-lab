{
 "cells": [
  {
   "cell_type": "code",
   "execution_count": 5,
   "metadata": {},
   "outputs": [],
   "source": [
    "import csv"
   ]
  },
  {
   "cell_type": "code",
   "execution_count": 7,
   "metadata": {},
   "outputs": [
    {
     "name": "stdout",
     "output_type": "stream",
     "text": [
      "       Sno      Date     Time                      State/UnionTerritory  \\\n",
      "0        1  30/01/20  6:00 PM                                    Kerala   \n",
      "1        2  31/01/20  6:00 PM                                    Kerala   \n",
      "2        3  01/02/20  6:00 PM                                    Kerala   \n",
      "3        4  02/02/20  6:00 PM                                    Kerala   \n",
      "4        5  03/02/20  6:00 PM                                    Kerala   \n",
      "5        6  04/02/20  6:00 PM                                    Kerala   \n",
      "6        7  05/02/20  6:00 PM                                    Kerala   \n",
      "7        8  06/02/20  6:00 PM                                    Kerala   \n",
      "8        9  07/02/20  6:00 PM                                    Kerala   \n",
      "9       10  08/02/20  6:00 PM                                    Kerala   \n",
      "10      11  09/02/20  6:00 PM                                    Kerala   \n",
      "11      12  10/02/20  6:00 PM                                    Kerala   \n",
      "12      13  11/02/20  6:00 PM                                    Kerala   \n",
      "13      14  12/02/20  6:00 PM                                    Kerala   \n",
      "14      15  13/02/20  6:00 PM                                    Kerala   \n",
      "15      16  14/02/20  6:00 PM                                    Kerala   \n",
      "16      17  15/02/20  6:00 PM                                    Kerala   \n",
      "17      18  16/02/20  6:00 PM                                    Kerala   \n",
      "18      19  17/02/20  6:00 PM                                    Kerala   \n",
      "19      20  18/02/20  6:00 PM                                    Kerala   \n",
      "20      21  19/02/20  6:00 PM                                    Kerala   \n",
      "21      22  20/02/20  6:00 PM                                    Kerala   \n",
      "22      23  21/02/20  6:00 PM                                    Kerala   \n",
      "23      24  22/02/20  6:00 PM                                    Kerala   \n",
      "24      25  23/02/20  6:00 PM                                    Kerala   \n",
      "25      26  24/02/20  6:00 PM                                    Kerala   \n",
      "26      27  25/02/20  6:00 PM                                    Kerala   \n",
      "27      28  26/02/20  6:00 PM                                    Kerala   \n",
      "28      29  27/02/20  6:00 PM                                    Kerala   \n",
      "29      30  28/02/20  6:00 PM                                    Kerala   \n",
      "...    ...       ...      ...                                       ...   \n",
      "9261  9262  09/12/20  8:00 AM                                Chandigarh   \n",
      "9262  9263  09/12/20  8:00 AM                              Chhattisgarh   \n",
      "9263  9264  09/12/20  8:00 AM  Dadra and Nagar Haveli and Daman and Diu   \n",
      "9264  9265  09/12/20  8:00 AM                                     Delhi   \n",
      "9265  9266  09/12/20  8:00 AM                                       Goa   \n",
      "9266  9267  09/12/20  8:00 AM                                   Gujarat   \n",
      "9267  9268  09/12/20  8:00 AM                                   Haryana   \n",
      "9268  9269  09/12/20  8:00 AM                          Himachal Pradesh   \n",
      "9269  9270  09/12/20  8:00 AM                         Jammu and Kashmir   \n",
      "9270  9271  09/12/20  8:00 AM                                 Jharkhand   \n",
      "9271  9272  09/12/20  8:00 AM                                 Karnataka   \n",
      "9272  9273  09/12/20  8:00 AM                                    Kerala   \n",
      "9273  9274  09/12/20  8:00 AM                                    Ladakh   \n",
      "9274  9275  09/12/20  8:00 AM                            Madhya Pradesh   \n",
      "9275  9276  09/12/20  8:00 AM                               Maharashtra   \n",
      "9276  9277  09/12/20  8:00 AM                                   Manipur   \n",
      "9277  9278  09/12/20  8:00 AM                                 Meghalaya   \n",
      "9278  9279  09/12/20  8:00 AM                                   Mizoram   \n",
      "9279  9280  09/12/20  8:00 AM                                  Nagaland   \n",
      "9280  9281  09/12/20  8:00 AM                                    Odisha   \n",
      "9281  9282  09/12/20  8:00 AM                                Puducherry   \n",
      "9282  9283  09/12/20  8:00 AM                                    Punjab   \n",
      "9283  9284  09/12/20  8:00 AM                                 Rajasthan   \n",
      "9284  9285  09/12/20  8:00 AM                                    Sikkim   \n",
      "9285  9286  09/12/20  8:00 AM                                Tamil Nadu   \n",
      "9286  9287  09/12/20  8:00 AM                                 Telengana   \n",
      "9287  9288  09/12/20  8:00 AM                                   Tripura   \n",
      "9288  9289  09/12/20  8:00 AM                               Uttarakhand   \n",
      "9289  9290  09/12/20  8:00 AM                             Uttar Pradesh   \n",
      "9290  9291  09/12/20  8:00 AM                               West Bengal   \n",
      "\n",
      "     ConfirmedIndianNational ConfirmedForeignNational    Cured  Deaths  \\\n",
      "0                          1                        0        0       0   \n",
      "1                          1                        0        0       0   \n",
      "2                          2                        0        0       0   \n",
      "3                          3                        0        0       0   \n",
      "4                          3                        0        0       0   \n",
      "5                          3                        0        0       0   \n",
      "6                          3                        0        0       0   \n",
      "7                          3                        0        0       0   \n",
      "8                          3                        0        0       0   \n",
      "9                          3                        0        0       0   \n",
      "10                         3                        0        0       0   \n",
      "11                         3                        0        0       0   \n",
      "12                         3                        0        0       0   \n",
      "13                         3                        0        0       0   \n",
      "14                         3                        0        0       0   \n",
      "15                         3                        0        0       0   \n",
      "16                         3                        0        0       0   \n",
      "17                         3                        0        0       0   \n",
      "18                         3                        0        0       0   \n",
      "19                         3                        0        0       0   \n",
      "20                         3                        0        0       0   \n",
      "21                         3                        0        0       0   \n",
      "22                         3                        0        0       0   \n",
      "23                         3                        0        0       0   \n",
      "24                         3                        0        0       0   \n",
      "25                         3                        0        0       0   \n",
      "26                         3                        0        0       0   \n",
      "27                         3                        0        0       0   \n",
      "28                         3                        0        0       0   \n",
      "29                         3                        0        0       0   \n",
      "...                      ...                      ...      ...     ...   \n",
      "9261                       -                        -    16981     296   \n",
      "9262                       -                        -   227158    3025   \n",
      "9263                       -                        -     3330       2   \n",
      "9264                       -                        -   565039    9763   \n",
      "9265                       -                        -    46924     701   \n",
      "9266                       -                        -   203111    4110   \n",
      "9267                       -                        -   232108    2624   \n",
      "9268                       -                        -    37871     753   \n",
      "9269                       -                        -   107282    1761   \n",
      "9270                       -                        -   107898     988   \n",
      "9271                       -                        -   858370   11880   \n",
      "9272                       -                        -   582351    2472   \n",
      "9273                       -                        -     8056     122   \n",
      "9274                       -                        -   200664    3358   \n",
      "9275                       -                        -  1737080   47827   \n",
      "9276                       -                        -    23166     311   \n",
      "9277                       -                        -    11686     122   \n",
      "9278                       -                        -     3772       6   \n",
      "9279                       -                        -    10781      67   \n",
      "9280                       -                        -   316970    1784   \n",
      "9281                       -                        -    36308     615   \n",
      "9282                       -                        -   145093    4964   \n",
      "9283                       -                        -   260773    2468   \n",
      "9284                       -                        -     4735     117   \n",
      "9285                       -                        -   770378   11822   \n",
      "9286                       -                        -   266120    1480   \n",
      "9287                       -                        -    32169     373   \n",
      "9288                       -                        -    72435    1307   \n",
      "9289                       -                        -   528832    7967   \n",
      "9290                       -                        -   475425    8820   \n",
      "\n",
      "      Confirmed  \n",
      "0             1  \n",
      "1             1  \n",
      "2             2  \n",
      "3             3  \n",
      "4             3  \n",
      "5             3  \n",
      "6             3  \n",
      "7             3  \n",
      "8             3  \n",
      "9             3  \n",
      "10            3  \n",
      "11            3  \n",
      "12            3  \n",
      "13            3  \n",
      "14            3  \n",
      "15            3  \n",
      "16            3  \n",
      "17            3  \n",
      "18            3  \n",
      "19            3  \n",
      "20            3  \n",
      "21            3  \n",
      "22            3  \n",
      "23            3  \n",
      "24            3  \n",
      "25            3  \n",
      "26            3  \n",
      "27            3  \n",
      "28            3  \n",
      "29            3  \n",
      "...         ...  \n",
      "9261      18239  \n",
      "9262     249699  \n",
      "9263       3351  \n",
      "9264     597112  \n",
      "9265      48935  \n",
      "9266     221493  \n",
      "9267     246679  \n",
      "9268      46201  \n",
      "9269     114038  \n",
      "9270     110639  \n",
      "9271     895284  \n",
      "9272     644696  \n",
      "9273       8969  \n",
      "9274     217302  \n",
      "9275    1859367  \n",
      "9276      26396  \n",
      "9277      12410  \n",
      "9278       3977  \n",
      "9279      11479  \n",
      "9280     321913  \n",
      "9281      37311  \n",
      "9282     157331  \n",
      "9283     284116  \n",
      "9284       5215  \n",
      "9285     792788  \n",
      "9286     275261  \n",
      "9287      32945  \n",
      "9288      79141  \n",
      "9289     558173  \n",
      "9290     507995  \n",
      "\n",
      "[9291 rows x 9 columns]\n"
     ]
    }
   ],
   "source": [
    "import pandas as pd\n",
    "df = pd.read_csv ('covid_19_india.csv')\n",
    "print(df)"
   ]
  },
  {
   "cell_type": "code",
   "execution_count": 8,
   "metadata": {},
   "outputs": [
    {
     "data": {
      "text/plain": [
       "(9291, 9)"
      ]
     },
     "execution_count": 8,
     "metadata": {},
     "output_type": "execute_result"
    }
   ],
   "source": [
    "df.shape"
   ]
  },
  {
   "cell_type": "code",
   "execution_count": 9,
   "metadata": {},
   "outputs": [
    {
     "data": {
      "text/plain": [
       "83619"
      ]
     },
     "execution_count": 9,
     "metadata": {},
     "output_type": "execute_result"
    }
   ],
   "source": [
    "df.size"
   ]
  },
  {
   "cell_type": "code",
   "execution_count": 11,
   "metadata": {},
   "outputs": [
    {
     "data": {
      "text/plain": [
       "2"
      ]
     },
     "execution_count": 11,
     "metadata": {},
     "output_type": "execute_result"
    }
   ],
   "source": [
    "df.ndim"
   ]
  },
  {
   "cell_type": "code",
   "execution_count": 16,
   "metadata": {},
   "outputs": [],
   "source": [
    "import json"
   ]
  },
  {
   "cell_type": "code",
   "execution_count": null,
   "metadata": {},
   "outputs": [],
   "source": []
  }
 ],
 "metadata": {
  "kernelspec": {
   "display_name": "Python 3",
   "language": "python",
   "name": "python3"
  },
  "language_info": {
   "codemirror_mode": {
    "name": "ipython",
    "version": 3
   },
   "file_extension": ".py",
   "mimetype": "text/x-python",
   "name": "python",
   "nbconvert_exporter": "python",
   "pygments_lexer": "ipython3",
   "version": "3.6.4"
  }
 },
 "nbformat": 4,
 "nbformat_minor": 2
}
